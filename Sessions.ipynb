{
 "cells": [
  {
   "cell_type": "code",
   "execution_count": 1,
   "metadata": {
    "collapsed": false
   },
   "outputs": [
    {
     "name": "stderr",
     "output_type": "stream",
     "text": [
      "/Users/pranjalthapar/anaconda/lib/python3.5/site-packages/pandas/core/indexing.py:128: SettingWithCopyWarning: \n",
      "A value is trying to be set on a copy of a slice from a DataFrame\n",
      "\n",
      "See the caveats in the documentation: http://pandas.pydata.org/pandas-docs/stable/indexing.html#indexing-view-versus-copy\n",
      "  self._setitem_with_indexer(indexer, value)\n"
     ]
    }
   ],
   "source": [
    "#Cell 1\n",
    "import numpy as np\n",
    "import pandas as pd\n",
    "import pandas_td as td\n",
    "import matplotlib.pyplot as plt\n",
    "\n",
    "df_sessions=pd.read_csv('sessions.csv')\n",
    "df_train=pd.read_csv('train_users_3.csv')\n",
    "\n",
    "\n",
    "#filling Nan\n",
    "df_sessions['id']=df_sessions['user_id']\n",
    "df_sessions=df_sessions.drop(['user_id'],axis=1)\n",
    "\n",
    "df_sessions.action=df_sessions.action.fillna(\"NaN\")\n",
    "df_sessions.action_type=df_sessions.action_type.fillna(\"NaN\")\n",
    "df_sessions.action_detail=df_sessions.action_detail.fillna(\"NaN\")\n",
    "df_sessions.device_type=df_sessions.device_type.fillna(\"NaN\")\n",
    "df_sessions.secs_elapsed=df_sessions.secs_elapsed.fillna(0)\n",
    "\n",
    "threshold = 100  # Remove items less than or equal to threshold\n",
    "vc = df_sessions['action'].value_counts()\n",
    "vals_to_remove = vc[vc <= threshold].index.values\n",
    "df_sessions['action'].loc[df_sessions['action'].isin(vals_to_remove)] = 'Other'\n",
    "\n",
    "'''f = {'secs_elapsed':['sum', 'mean'] }\n",
    "a,b=df_sessions.groupby('id').agg(f)'''\n",
    "#df_sessions=df_sessions.groupby('id')\n",
    "a=df_sessions.groupby('id')['secs_elapsed'].sum()\n",
    "\n"
   ]
  },
  {
   "cell_type": "code",
   "execution_count": 2,
   "metadata": {
    "collapsed": false
   },
   "outputs": [
    {
     "name": "stdout",
     "output_type": "stream",
     "text": [
      "           id date_account_created  timestamp_first_active date_first_booking  \\\n",
      "0  gxn3p5htnn           2010-06-28          20090319043255                NaN   \n",
      "1  820tgsjxq7           2011-05-25          20090523174809                NaN   \n",
      "2  4ft3gnwmtx           2010-09-28          20090609231247         2010-08-02   \n",
      "3  bjjt8pjhuk           2011-12-05          20091031060129         2012-09-08   \n",
      "4  87mebub9p4           2010-09-14          20091208061105         2010-02-18   \n",
      "\n",
      "      gender   age signup_method  signup_flow language affiliate_channel  \\\n",
      "0  -unknown-   NaN      facebook            0       en            direct   \n",
      "1       MALE  38.0      facebook            0       en               seo   \n",
      "2     FEMALE  56.0         basic            3       en            direct   \n",
      "3     FEMALE  42.0      facebook            0       en            direct   \n",
      "4  -unknown-  41.0         basic            0       en            direct   \n",
      "\n",
      "  affiliate_provider first_affiliate_tracked signup_app first_device_type  \\\n",
      "0             direct               untracked        Web       Mac Desktop   \n",
      "1             google               untracked        Web       Mac Desktop   \n",
      "2             direct               untracked        Web   Windows Desktop   \n",
      "3             direct               untracked        Web       Mac Desktop   \n",
      "4             direct               untracked        Web       Mac Desktop   \n",
      "\n",
      "  first_browser country_destination  \n",
      "0        Chrome                 NDF  \n",
      "1        Chrome                 NDF  \n",
      "2            IE                  US  \n",
      "3       Firefox               other  \n",
      "4        Chrome                  US  \n",
      "           action action_type        action_detail      device_type  \\\n",
      "0          lookup         NaN                  NaN  Windows Desktop   \n",
      "1  search_results       click  view_search_results  Windows Desktop   \n",
      "2          lookup         NaN                  NaN  Windows Desktop   \n",
      "3  search_results       click  view_search_results  Windows Desktop   \n",
      "4          lookup         NaN                  NaN  Windows Desktop   \n",
      "\n",
      "   secs_elapsed          id  \n",
      "0         319.0  d1mm9tcy42  \n",
      "1       67753.0  d1mm9tcy42  \n",
      "2         301.0  d1mm9tcy42  \n",
      "3       22141.0  d1mm9tcy42  \n",
      "4         435.0  d1mm9tcy42  \n"
     ]
    }
   ],
   "source": [
    "print(df_train.head())\n",
    "print(df_sessions.head())"
   ]
  },
  {
   "cell_type": "code",
   "execution_count": 5,
   "metadata": {
    "collapsed": false
   },
   "outputs": [
    {
     "name": "stdout",
     "output_type": "stream",
     "text": [
      "<class 'pandas.core.frame.DataFrame'>\n",
      "RangeIndex: 213451 entries, 0 to 213450\n",
      "Data columns (total 16 columns):\n",
      "id                         213451 non-null object\n",
      "date_account_created       213451 non-null object\n",
      "timestamp_first_active     213451 non-null int64\n",
      "date_first_booking         88908 non-null object\n",
      "gender                     213451 non-null object\n",
      "age                        125461 non-null float64\n",
      "signup_method              213451 non-null object\n",
      "signup_flow                213451 non-null int64\n",
      "language                   213451 non-null object\n",
      "affiliate_channel          213451 non-null object\n",
      "affiliate_provider         213451 non-null object\n",
      "first_affiliate_tracked    207386 non-null object\n",
      "signup_app                 213451 non-null object\n",
      "first_device_type          213451 non-null object\n",
      "first_browser              213451 non-null object\n",
      "country_destination        213451 non-null object\n",
      "dtypes: float64(1), int64(2), object(13)\n",
      "memory usage: 26.1+ MB\n"
     ]
    }
   ],
   "source": [
    "df=pd.read_csv('test_users.csv')\n",
    "df_train.info()"
   ]
  },
  {
   "cell_type": "code",
   "execution_count": 4,
   "metadata": {
    "collapsed": false
   },
   "outputs": [
    {
     "name": "stdout",
     "output_type": "stream",
     "text": [
      "<class 'pandas.core.frame.DataFrame'>\n",
      "RangeIndex: 62096 entries, 0 to 62095\n",
      "Data columns (total 15 columns):\n",
      "id                         62096 non-null object\n",
      "date_account_created       62096 non-null object\n",
      "timestamp_first_active     62096 non-null int64\n",
      "date_first_booking         0 non-null float64\n",
      "gender                     62096 non-null object\n",
      "age                        33220 non-null float64\n",
      "signup_method              62096 non-null object\n",
      "signup_flow                62096 non-null int64\n",
      "language                   62096 non-null object\n",
      "affiliate_channel          62096 non-null object\n",
      "affiliate_provider         62096 non-null object\n",
      "first_affiliate_tracked    62076 non-null object\n",
      "signup_app                 62096 non-null object\n",
      "first_device_type          62096 non-null object\n",
      "first_browser              62096 non-null object\n",
      "dtypes: float64(2), int64(2), object(11)\n",
      "memory usage: 7.1+ MB\n"
     ]
    }
   ],
   "source": [
    "df.info()"
   ]
  },
  {
   "cell_type": "code",
   "execution_count": null,
   "metadata": {
    "collapsed": true
   },
   "outputs": [],
   "source": []
  }
 ],
 "metadata": {
  "kernelspec": {
   "display_name": "Python 3",
   "language": "python",
   "name": "python3"
  },
  "language_info": {
   "codemirror_mode": {
    "name": "ipython",
    "version": 3
   },
   "file_extension": ".py",
   "mimetype": "text/x-python",
   "name": "python",
   "nbconvert_exporter": "python",
   "pygments_lexer": "ipython3",
   "version": "3.5.1"
  }
 },
 "nbformat": 4,
 "nbformat_minor": 0
}
